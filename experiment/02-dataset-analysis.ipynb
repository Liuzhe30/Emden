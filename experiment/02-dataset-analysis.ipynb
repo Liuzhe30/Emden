{
 "cells": [
  {
   "cell_type": "markdown",
   "metadata": {},
   "source": [
    "### Dataset analysis"
   ]
  },
  {
   "cell_type": "code",
   "execution_count": 1,
   "metadata": {},
   "outputs": [],
   "source": [
    "import numpy as np\n",
    "import pandas as pd"
   ]
  },
  {
   "cell_type": "code",
   "execution_count": 2,
   "metadata": {},
   "outputs": [
    {
     "name": "stdout",
     "output_type": "stream",
     "text": [
      "all train: \n",
      "1    397\n",
      "0    153\n",
      "Name: label, dtype: int64\n",
      "all test: \n",
      "1    114\n",
      "0     46\n",
      "Name: label, dtype: int64\n"
     ]
    }
   ],
   "source": [
    "alltrainpath = '../datasets/middlefile/train_data_evidence.dataset'\n",
    "alltestpath = '../datasets/middlefile/test_data_evidence.dataset'\n",
    "\n",
    "alltrain = pd.read_pickle(alltrainpath)\n",
    "alltest = pd.read_pickle(alltestpath)\n",
    "print('all train: ') \n",
    "print(alltrain['label'].value_counts())\n",
    "print('all test: ') \n",
    "print(alltest['label'].value_counts())"
   ]
  },
  {
   "cell_type": "code",
   "execution_count": 3,
   "metadata": {},
   "outputs": [
    {
     "name": "stdout",
     "output_type": "stream",
     "text": [
      "fold1 train: \n",
      "1    320\n",
      "0    120\n",
      "Name: label, dtype: int64\n",
      "fold1valid: \n",
      "1    77\n",
      "0    33\n",
      "Name: label, dtype: int64\n",
      "fold2 train: \n",
      "1    315\n",
      "0    125\n",
      "Name: label, dtype: int64\n",
      "fold2valid: \n",
      "1    82\n",
      "0    28\n",
      "Name: label, dtype: int64\n",
      "fold3 train: \n",
      "1    317\n",
      "0    123\n",
      "Name: label, dtype: int64\n",
      "fold3valid: \n",
      "1    80\n",
      "0    30\n",
      "Name: label, dtype: int64\n",
      "fold4 train: \n",
      "1    317\n",
      "0    123\n",
      "Name: label, dtype: int64\n",
      "fold4valid: \n",
      "1    80\n",
      "0    30\n",
      "Name: label, dtype: int64\n",
      "fold5 train: \n",
      "1    319\n",
      "0    121\n",
      "Name: label, dtype: int64\n",
      "fold5valid: \n",
      "1    78\n",
      "0    32\n",
      "Name: label, dtype: int64\n"
     ]
    }
   ],
   "source": [
    "for i in range(5):\n",
    "    trainpath = '../datasets/fivefold/'+str(i+1)+'fold_train_evidence.dataset'\n",
    "    validpath = '../datasets/fivefold/'+str(i+1)+'fold_valid_evidence.dataset'\n",
    "\n",
    "    train = pd.read_pickle(trainpath)\n",
    "    test = pd.read_pickle(validpath)\n",
    "\n",
    "    print('fold' + str(i+1) + ' train: ') \n",
    "    print(train['label'].value_counts())\n",
    "    print('fold' + str(i+1) + 'valid: ') \n",
    "    print(test['label'].value_counts())\n"
   ]
  }
 ],
 "metadata": {
  "kernelspec": {
   "display_name": "Python 3.9.12 64-bit",
   "language": "python",
   "name": "python3"
  },
  "language_info": {
   "codemirror_mode": {
    "name": "ipython",
    "version": 3
   },
   "file_extension": ".py",
   "mimetype": "text/x-python",
   "name": "python",
   "nbconvert_exporter": "python",
   "pygments_lexer": "ipython3",
   "version": "3.9.12"
  },
  "orig_nbformat": 4,
  "vscode": {
   "interpreter": {
    "hash": "6fff98fc3b3d81bd655c2cc48858186e4d9e2db7b515bf1c3221888f12a62f87"
   }
  }
 },
 "nbformat": 4,
 "nbformat_minor": 2
}
