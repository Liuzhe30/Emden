{
 "cells": [
  {
   "cell_type": "markdown",
   "metadata": {},
   "source": [
    "### civic feature engineering"
   ]
  },
  {
   "cell_type": "code",
   "execution_count": 1,
   "metadata": {},
   "outputs": [],
   "source": [
    "import pandas as pd\n",
    "import numpy as np"
   ]
  },
  {
   "cell_type": "markdown",
   "metadata": {},
   "source": [
    "#### Part 1: variant coding (Onehot sequence, HHblits, AF2-calculated rASA)"
   ]
  },
  {
   "cell_type": "code",
   "execution_count": 3,
   "metadata": {},
   "outputs": [],
   "source": [
    "# split fasta\n",
    "civic_gene_table = pd.read_csv('../datasets/middlefile/civic_gene_table_fixed.csv')\n",
    "for i in range(civic_gene_table.shape[0]):\n",
    "    uniprotac = civic_gene_table['uniprotac'][i]\n",
    "    fasta = civic_gene_table['fasta'][i]\n",
    "    with open('../datasets/middlefile/fasta/' + uniprotac + '.fasta', 'w+') as out:\n",
    "        out.write('>' + uniprotac + '\\n')\n",
    "        out.write(fasta)"
   ]
  },
  {
   "cell_type": "code",
   "execution_count": 5,
   "metadata": {},
   "outputs": [],
   "source": [
    "# alphafold database fetch\n",
    "import requests\n",
    "for i in range(civic_gene_table.shape[0]):\n",
    "    uniprotac = civic_gene_table['uniprotac'][i]\n",
    "    url = 'https://alphafold.ebi.ac.uk/files/AF-' + uniprotac + '-F1-model_v4.pdb'\n",
    "    f = requests.get(url)\n",
    "    with open('../datasets/middlefile/AF2pdb/' + uniprotac + '.pdb', 'wb') as out:\n",
    "        out.write(f.content)"
   ]
  },
  {
   "cell_type": "code",
   "execution_count": 6,
   "metadata": {},
   "outputs": [],
   "source": [
    "# generage fasta with mutation\n",
    "civic_evidence_table = pd.read_csv('../datasets/middlefile/civic_evidence_table.csv')\n",
    "for i in range(civic_evidence_table.shape[0]):\n",
    "    gene = civic_evidence_table['gene'][i]\n",
    "    variant = civic_evidence_table['variant'][i]\n",
    "    fasta = civic_gene_table[civic_gene_table['gene'] == gene]['fasta'].values[0]\n",
    "    pos = int(variant[1:-1])\n",
    "    pos_after = variant[-1]\n",
    "    fasta = fasta[:pos-1] + pos_after + fasta[pos:]\n",
    "    with open('../datasets/middlefile/fasta/' + gene + '_' + variant + '.fasta', 'w+') as out:\n",
    "        out.write('>' + gene + '_' + variant + '\\n')\n",
    "        out.write(fasta)"
   ]
  },
  {
   "cell_type": "markdown",
   "metadata": {},
   "source": [
    "#### Part 2: drug coding"
   ]
  },
  {
   "cell_type": "code",
   "execution_count": null,
   "metadata": {},
   "outputs": [],
   "source": []
  }
 ],
 "metadata": {
  "kernelspec": {
   "display_name": "Python 3.9.12 64-bit",
   "language": "python",
   "name": "python3"
  },
  "language_info": {
   "codemirror_mode": {
    "name": "ipython",
    "version": 3
   },
   "file_extension": ".py",
   "mimetype": "text/x-python",
   "name": "python",
   "nbconvert_exporter": "python",
   "pygments_lexer": "ipython3",
   "version": "3.9.12"
  },
  "orig_nbformat": 4,
  "vscode": {
   "interpreter": {
    "hash": "6fff98fc3b3d81bd655c2cc48858186e4d9e2db7b515bf1c3221888f12a62f87"
   }
  }
 },
 "nbformat": 4,
 "nbformat_minor": 2
}
